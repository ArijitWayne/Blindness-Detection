{
  "nbformat": 4,
  "nbformat_minor": 0,
  "metadata": {
    "kernelspec": {
      "display_name": "Python 3",
      "language": "python",
      "name": "python3"
    },
    "language_info": {
      "codemirror_mode": {
        "name": "ipython",
        "version": 3
      },
      "file_extension": ".py",
      "mimetype": "text/x-python",
      "name": "python",
      "nbconvert_exporter": "python",
      "pygments_lexer": "ipython3",
      "version": "3.6.9"
    },
    "colab": {
      "name": "ALEXNET.ipynb",
      "provenance": [],
      "collapsed_sections": []
    }
  },
  "cells": [
    {
      "cell_type": "code",
      "metadata": {
        "id": "qIoUIYvADP4e",
        "colab_type": "code",
        "outputId": "53f5ae3a-a2c8-497a-950b-bd58469cca8c",
        "colab": {
          "base_uri": "https://localhost:8080/",
          "height": 81
        }
      },
      "source": [
        "import json\n",
        "import math\n",
        "import os\n",
        "\n",
        "import cv2\n",
        "from PIL import Image\n",
        "import numpy as np\n",
        "from keras import layers\n",
        "from keras.applications import DenseNet121\n",
        "from keras.callbacks import Callback, ModelCheckpoint\n",
        "from keras.preprocessing.image import ImageDataGenerator\n",
        "from keras.models import Sequential\n",
        "from keras.optimizers import Adam\n",
        "import matplotlib.pyplot as plt\n",
        "import pandas as pd\n",
        "from sklearn.model_selection import train_test_split\n",
        "from sklearn.metrics import cohen_kappa_score, accuracy_score\n",
        "import scipy\n",
        "from tqdm import tqdm"
      ],
      "execution_count": 0,
      "outputs": [
        {
          "output_type": "stream",
          "text": [
            "Using TensorFlow backend.\n"
          ],
          "name": "stderr"
        },
        {
          "output_type": "display_data",
          "data": {
            "text/html": [
              "<p style=\"color: red;\">\n",
              "The default version of TensorFlow in Colab will soon switch to TensorFlow 2.x.<br>\n",
              "We recommend you <a href=\"https://www.tensorflow.org/guide/migrate\" target=\"_blank\">upgrade</a> now \n",
              "or ensure your notebook will continue to use TensorFlow 1.x via the <code>%tensorflow_version 1.x</code> magic:\n",
              "<a href=\"https://colab.research.google.com/notebooks/tensorflow_version.ipynb\" target=\"_blank\">more info</a>.</p>\n"
            ],
            "text/plain": [
              "<IPython.core.display.HTML object>"
            ]
          },
          "metadata": {
            "tags": []
          }
        }
      ]
    },
    {
      "cell_type": "code",
      "metadata": {
        "id": "1CY1Xz9TieEm",
        "colab_type": "code",
        "outputId": "7961d909-08ad-4915-a4d4-333be6f1fe07",
        "colab": {
          "base_uri": "https://localhost:8080/",
          "height": 122
        }
      },
      "source": [
        "from google.colab import drive\n",
        "drive.mount('/content/gdrive')\n"
      ],
      "execution_count": 0,
      "outputs": [
        {
          "output_type": "stream",
          "text": [
            "Go to this URL in a browser: https://accounts.google.com/o/oauth2/auth?client_id=947318989803-6bn6qk8qdgf4n4g3pfee6491hc0brc4i.apps.googleusercontent.com&redirect_uri=urn%3aietf%3awg%3aoauth%3a2.0%3aoob&response_type=code&scope=email%20https%3a%2f%2fwww.googleapis.com%2fauth%2fdocs.test%20https%3a%2f%2fwww.googleapis.com%2fauth%2fdrive%20https%3a%2f%2fwww.googleapis.com%2fauth%2fdrive.photos.readonly%20https%3a%2f%2fwww.googleapis.com%2fauth%2fpeopleapi.readonly\n",
            "\n",
            "Enter your authorization code:\n",
            "··········\n",
            "Mounted at /content/gdrive\n"
          ],
          "name": "stdout"
        }
      ]
    },
    {
      "cell_type": "code",
      "metadata": {
        "id": "AF3G-bPfDP4v",
        "colab_type": "code",
        "colab": {}
      },
      "source": [
        "df = pd.read_csv('train.csv')\n",
        "\n",
        "df.head(5)"
      ],
      "execution_count": 0,
      "outputs": []
    },
    {
      "cell_type": "code",
      "metadata": {
        "id": "9LZKGtLzDP47",
        "colab_type": "code",
        "colab": {}
      },
      "source": [
        "def preprocess_image(image_path, desired_size=96):\n",
        "    im = cv2.imread(image_path)\n",
        "    im = cv2.cvtColor(im,cv2.COLOR_BGR2RGB)\n",
        "    im = cv2.resize(im, (desired_size, desired_size))\n",
        "    im = cv2.addWeighted(im, 4, cv2.blur(im, ksize=(10,10)), -4, 128)\n",
        "    return im"
      ],
      "execution_count": 0,
      "outputs": []
    },
    {
      "cell_type": "code",
      "metadata": {
        "id": "mUG82nzqDP5D",
        "colab_type": "code",
        "outputId": "de15383e-c439-422d-cb60-122bf8460d3c",
        "colab": {}
      },
      "source": [
        "N = df.shape[0]\n",
        "X = np.empty((N, 96, 96, 3), dtype=np.uint8)\n",
        "\n",
        "for i, image_id in enumerate(tqdm(df['id_code'])):\n",
        "    X[i, :, :, :] = preprocess_image(\n",
        "        f'train_images/{image_id}.png'\n",
        "    )"
      ],
      "execution_count": 0,
      "outputs": [
        {
          "output_type": "stream",
          "text": [
            "100%|██████████| 3662/3662 [05:08<00:00, 11.89it/s]\n"
          ],
          "name": "stderr"
        }
      ]
    },
    {
      "cell_type": "code",
      "metadata": {
        "id": "_NMqrpdKDP5N",
        "colab_type": "code",
        "outputId": "0eb87d31-c57b-4fa3-fc2b-039327334335",
        "colab": {}
      },
      "source": [
        "y = df['diagnosis']\n",
        "y.head(10)"
      ],
      "execution_count": 0,
      "outputs": [
        {
          "output_type": "execute_result",
          "data": {
            "text/plain": [
              "0    2\n",
              "1    4\n",
              "2    1\n",
              "3    0\n",
              "4    0\n",
              "5    4\n",
              "6    0\n",
              "7    2\n",
              "8    2\n",
              "9    1\n",
              "Name: diagnosis, dtype: int64"
            ]
          },
          "metadata": {
            "tags": []
          },
          "execution_count": 5
        }
      ]
    },
    {
      "cell_type": "code",
      "metadata": {
        "id": "z4ksgTYNDP5V",
        "colab_type": "code",
        "outputId": "0917c418-bc7f-4511-9526-78bffbbc7991",
        "colab": {}
      },
      "source": [
        "from keras.utils import np_utils\n",
        "y1 = np_utils.to_categorical(y)\n",
        "print('The shape of y1 is:', y1.shape)\n",
        "num_classes = y1.shape[1]\n",
        "y1[:10]"
      ],
      "execution_count": 0,
      "outputs": [
        {
          "output_type": "stream",
          "text": [
            "The shape of y1 is: (3662, 5)\n"
          ],
          "name": "stdout"
        },
        {
          "output_type": "execute_result",
          "data": {
            "text/plain": [
              "array([[0., 0., 1., 0., 0.],\n",
              "       [0., 0., 0., 0., 1.],\n",
              "       [0., 1., 0., 0., 0.],\n",
              "       [1., 0., 0., 0., 0.],\n",
              "       [1., 0., 0., 0., 0.],\n",
              "       [0., 0., 0., 0., 1.],\n",
              "       [1., 0., 0., 0., 0.],\n",
              "       [0., 0., 1., 0., 0.],\n",
              "       [0., 0., 1., 0., 0.],\n",
              "       [0., 1., 0., 0., 0.]], dtype=float32)"
            ]
          },
          "metadata": {
            "tags": []
          },
          "execution_count": 6
        }
      ]
    },
    {
      "cell_type": "code",
      "metadata": {
        "id": "Catdd5wBDP5d",
        "colab_type": "code",
        "outputId": "a36f4c29-a131-48df-a22a-833f20c97446",
        "colab": {}
      },
      "source": [
        "from sklearn.model_selection import train_test_split\n",
        "X_train, X_test, y_train, y_test = train_test_split(X, y1, test_size=0.2, random_state=42)\n",
        "print('The shape of X_train is:', X_train.shape)\n",
        "print('The shape of y_train is:', y_train.shape)\n",
        "print('The shape of X_test is:', X_test.shape)\n",
        "print('The shape of y_test is:', y_test.shape)"
      ],
      "execution_count": 0,
      "outputs": [
        {
          "output_type": "stream",
          "text": [
            "The shape of X_train is: (2929, 96, 96, 3)\n",
            "The shape of y_train is: (2929, 5)\n",
            "The shape of X_test is: (733, 96, 96, 3)\n",
            "The shape of y_test is: (733, 5)\n"
          ],
          "name": "stdout"
        }
      ]
    },
    {
      "cell_type": "code",
      "metadata": {
        "id": "cvGOXOVwDP5k",
        "colab_type": "code",
        "colab": {}
      },
      "source": [
        "from keras.models import Sequential\n",
        "from keras.layers import Dense\n",
        "from keras.layers import Dropout, GaussianNoise, GaussianDropout\n",
        "from keras.layers import Flatten, BatchNormalization\n",
        "from keras.layers.convolutional import Conv2D, SeparableConv2D\n",
        "\n",
        "from keras.layers.convolutional import MaxPooling2D\n",
        "from keras.utils import np_utils\n",
        "from keras import backend as K\n",
        "from keras import regularizers\n",
        "\n",
        "in_size = (96,96,3)"
      ],
      "execution_count": 0,
      "outputs": []
    },
    {
      "cell_type": "code",
      "metadata": {
        "id": "OKNvkjFyDP5t",
        "colab_type": "code",
        "colab": {}
      },
      "source": [
        "# Import necessary packages\n",
        "import argparse\n",
        "\n",
        "# Import necessary components to build LeNet\n",
        "import keras\n",
        "from keras.models import Sequential\n",
        "from keras.layers.core import Dense, Dropout, Activation, Flatten\n",
        "from keras.layers.convolutional import Conv2D, MaxPooling2D, ZeroPadding2D\n",
        "from keras.layers.normalization import BatchNormalization\n",
        "from keras.regularizers import l2\n",
        "\n",
        "def alexnet_model(img_shape=in_size, n_classes=num_classes, l2_reg=0.,\n",
        "    weights=None):\n",
        "\n",
        "    # Initialize model\n",
        "    alexnet = Sequential()\n",
        "\n",
        "    # Layer 1\n",
        "    alexnet.add(Conv2D(96, (11, 11), input_shape=img_shape,\n",
        "        padding='same', kernel_regularizer=l2(l2_reg)))\n",
        "    alexnet.add(BatchNormalization())\n",
        "    alexnet.add(Activation('relu'))\n",
        "    alexnet.add(MaxPooling2D(pool_size=(2, 2)))\n",
        "\n",
        "    # Layer 2\n",
        "    alexnet.add(Conv2D(256, (5, 5), padding='same'))\n",
        "    alexnet.add(BatchNormalization())\n",
        "    alexnet.add(Activation('relu'))\n",
        "    alexnet.add(MaxPooling2D(pool_size=(2, 2)))\n",
        "\n",
        "    # Layer 3\n",
        "    alexnet.add(ZeroPadding2D((1, 1)))\n",
        "    alexnet.add(Conv2D(512, (3, 3), padding='same'))\n",
        "    alexnet.add(BatchNormalization())\n",
        "    alexnet.add(Activation('relu'))\n",
        "    alexnet.add(MaxPooling2D(pool_size=(2, 2)))\n",
        "\n",
        "    # Layer 4\n",
        "    alexnet.add(ZeroPadding2D((1, 1)))\n",
        "    alexnet.add(Conv2D(1024, (3, 3), padding='same'))\n",
        "    alexnet.add(BatchNormalization())\n",
        "    alexnet.add(Activation('relu'))\n",
        "\n",
        "    # Layer 5\n",
        "    alexnet.add(ZeroPadding2D((1, 1)))\n",
        "    alexnet.add(Conv2D(1024, (3, 3), padding='same'))\n",
        "    alexnet.add(BatchNormalization())\n",
        "    alexnet.add(Activation('relu'))\n",
        "    alexnet.add(MaxPooling2D(pool_size=(2, 2)))\n",
        "\n",
        "    # Layer 6\n",
        "    alexnet.add(Flatten())\n",
        "    alexnet.add(Dense(3072))\n",
        "    alexnet.add(BatchNormalization())\n",
        "    alexnet.add(Activation('relu'))\n",
        "    alexnet.add(Dropout(0.5))\n",
        "\n",
        "    # Layer 7\n",
        "    alexnet.add(Dense(4096))\n",
        "    alexnet.add(BatchNormalization())\n",
        "    alexnet.add(Activation('relu'))\n",
        "    alexnet.add(Dropout(0.5))\n",
        "\n",
        "    # Layer 8\n",
        "    alexnet.add(Dense(n_classes))\n",
        "    alexnet.add(BatchNormalization())\n",
        "    alexnet.add(Activation('softmax'))\n",
        "\n",
        "    if weights is not None:\n",
        "        alexnet.load_weights(weights)\n",
        "    return alexnet"
      ],
      "execution_count": 0,
      "outputs": []
    },
    {
      "cell_type": "code",
      "metadata": {
        "scrolled": true,
        "id": "FH61MLddDP5z",
        "colab_type": "code",
        "outputId": "f6df88dd-4827-458e-9024-b4c5d7f49573",
        "colab": {}
      },
      "source": [
        "model = alexnet_model()\n",
        "model.summary()"
      ],
      "execution_count": 0,
      "outputs": [
        {
          "output_type": "stream",
          "text": [
            "Model: \"sequential_1\"\n",
            "_________________________________________________________________\n",
            "Layer (type)                 Output Shape              Param #   \n",
            "=================================================================\n",
            "conv2d_1 (Conv2D)            (None, 96, 96, 96)        34944     \n",
            "_________________________________________________________________\n",
            "batch_normalization_1 (Batch (None, 96, 96, 96)        384       \n",
            "_________________________________________________________________\n",
            "activation_1 (Activation)    (None, 96, 96, 96)        0         \n",
            "_________________________________________________________________\n",
            "max_pooling2d_1 (MaxPooling2 (None, 48, 48, 96)        0         \n",
            "_________________________________________________________________\n",
            "conv2d_2 (Conv2D)            (None, 48, 48, 256)       614656    \n",
            "_________________________________________________________________\n",
            "batch_normalization_2 (Batch (None, 48, 48, 256)       1024      \n",
            "_________________________________________________________________\n",
            "activation_2 (Activation)    (None, 48, 48, 256)       0         \n",
            "_________________________________________________________________\n",
            "max_pooling2d_2 (MaxPooling2 (None, 24, 24, 256)       0         \n",
            "_________________________________________________________________\n",
            "zero_padding2d_1 (ZeroPaddin (None, 26, 26, 256)       0         \n",
            "_________________________________________________________________\n",
            "conv2d_3 (Conv2D)            (None, 26, 26, 512)       1180160   \n",
            "_________________________________________________________________\n",
            "batch_normalization_3 (Batch (None, 26, 26, 512)       2048      \n",
            "_________________________________________________________________\n",
            "activation_3 (Activation)    (None, 26, 26, 512)       0         \n",
            "_________________________________________________________________\n",
            "max_pooling2d_3 (MaxPooling2 (None, 13, 13, 512)       0         \n",
            "_________________________________________________________________\n",
            "zero_padding2d_2 (ZeroPaddin (None, 15, 15, 512)       0         \n",
            "_________________________________________________________________\n",
            "conv2d_4 (Conv2D)            (None, 15, 15, 1024)      4719616   \n",
            "_________________________________________________________________\n",
            "batch_normalization_4 (Batch (None, 15, 15, 1024)      4096      \n",
            "_________________________________________________________________\n",
            "activation_4 (Activation)    (None, 15, 15, 1024)      0         \n",
            "_________________________________________________________________\n",
            "zero_padding2d_3 (ZeroPaddin (None, 17, 17, 1024)      0         \n",
            "_________________________________________________________________\n",
            "conv2d_5 (Conv2D)            (None, 17, 17, 1024)      9438208   \n",
            "_________________________________________________________________\n",
            "batch_normalization_5 (Batch (None, 17, 17, 1024)      4096      \n",
            "_________________________________________________________________\n",
            "activation_5 (Activation)    (None, 17, 17, 1024)      0         \n",
            "_________________________________________________________________\n",
            "max_pooling2d_4 (MaxPooling2 (None, 8, 8, 1024)        0         \n",
            "_________________________________________________________________\n",
            "flatten_1 (Flatten)          (None, 65536)             0         \n",
            "_________________________________________________________________\n",
            "dense_1 (Dense)              (None, 3072)              201329664 \n",
            "_________________________________________________________________\n",
            "batch_normalization_6 (Batch (None, 3072)              12288     \n",
            "_________________________________________________________________\n",
            "activation_6 (Activation)    (None, 3072)              0         \n",
            "_________________________________________________________________\n",
            "dropout_1 (Dropout)          (None, 3072)              0         \n",
            "_________________________________________________________________\n",
            "dense_2 (Dense)              (None, 4096)              12587008  \n",
            "_________________________________________________________________\n",
            "batch_normalization_7 (Batch (None, 4096)              16384     \n",
            "_________________________________________________________________\n",
            "activation_7 (Activation)    (None, 4096)              0         \n",
            "_________________________________________________________________\n",
            "dropout_2 (Dropout)          (None, 4096)              0         \n",
            "_________________________________________________________________\n",
            "dense_3 (Dense)              (None, 5)                 20485     \n",
            "_________________________________________________________________\n",
            "batch_normalization_8 (Batch (None, 5)                 20        \n",
            "_________________________________________________________________\n",
            "activation_8 (Activation)    (None, 5)                 0         \n",
            "=================================================================\n",
            "Total params: 229,965,081\n",
            "Trainable params: 229,944,911\n",
            "Non-trainable params: 20,170\n",
            "_________________________________________________________________\n"
          ],
          "name": "stdout"
        }
      ]
    },
    {
      "cell_type": "code",
      "metadata": {
        "id": "K7UESSNhDP57",
        "colab_type": "code",
        "colab": {}
      },
      "source": [
        "from sklearn.metrics import cohen_kappa_score, accuracy_score\n",
        "from keras.callbacks import Callback, ModelCheckpoint\n",
        "\n",
        "class Metrics(Callback):\n",
        "    def on_train_begin(self, logs={}):\n",
        "        self.val_kappas = []\n",
        "\n",
        "    def on_epoch_end(self, epoch, logs={}):\n",
        "        X_val, y_val = self.validation_data[:2]\n",
        "        y_pred = self.model.predict(X_val)\n",
        "\n",
        "        _val_kappa = cohen_kappa_score(\n",
        "            y_val.argmax(axis=1), \n",
        "            y_pred.argmax(axis=1), \n",
        "            weights='quadratic'\n",
        "        )\n",
        "\n",
        "        self.val_kappas.append(_val_kappa)\n",
        "\n",
        "        print(f\"val_kappa: {_val_kappa:.4f}\")\n",
        "\n",
        "        return"
      ],
      "execution_count": 0,
      "outputs": []
    },
    {
      "cell_type": "code",
      "metadata": {
        "id": "0gizsmiADP6E",
        "colab_type": "code",
        "colab": {}
      },
      "source": [
        "from keras.optimizers import Adam\n",
        "\n",
        "model.compile(loss='categorical_crossentropy', \n",
        "              optimizer=Adam(lr=0.00005), metrics=['accuracy'])"
      ],
      "execution_count": 0,
      "outputs": []
    },
    {
      "cell_type": "code",
      "metadata": {
        "id": "aT71eikcDP6K",
        "colab_type": "code",
        "colab": {}
      },
      "source": [
        "BATCH_SIZE = 32\n",
        "\n",
        "def create_datagen():\n",
        "    return ImageDataGenerator(\n",
        "        zoom_range=0.10,  # set range for random zoom\n",
        "        # set mode for filling points outside the input boundaries\n",
        "        fill_mode='constant',\n",
        "        cval=0.,  # value used for fill_mode = \"constant\"\n",
        "        horizontal_flip=True,  # randomly flip images\n",
        "        vertical_flip=True,  # randomly flip images\n",
        "    )\n",
        "\n",
        "# Using original generator\n",
        "data_generator = create_datagen().flow(X_train, y_train, batch_size=BATCH_SIZE)"
      ],
      "execution_count": 0,
      "outputs": []
    },
    {
      "cell_type": "code",
      "metadata": {
        "id": "QFsk23_2DP6R",
        "colab_type": "code",
        "colab": {}
      },
      "source": [
        "from keras.callbacks import EarlyStopping, ModelCheckpoint\n",
        "\n",
        "earlystopping = EarlyStopping(patience=5, verbose=1)\n",
        "\n",
        "kappa_metrics = Metrics()\n",
        "\n",
        "checkpoint = ModelCheckpoint(\n",
        "    'model_alexnet_aptos.h5', \n",
        "    monitor='val_loss', \n",
        "    verbose=0, \n",
        "    save_best_only=True, \n",
        "    save_weights_only=False,\n",
        "    mode='auto'\n",
        ")"
      ],
      "execution_count": 0,
      "outputs": []
    },
    {
      "cell_type": "code",
      "metadata": {
        "id": "NK93r-nZDP6W",
        "colab_type": "code",
        "outputId": "a131f2d6-fe4d-4b31-ad10-5371e0abae16",
        "colab": {}
      },
      "source": [
        "history = model.fit_generator(\n",
        "    data_generator,\n",
        "    steps_per_epoch=X_train.shape[0] / BATCH_SIZE,\n",
        "    epochs=25,\n",
        "    validation_data=(X_test, y_test),\n",
        "    callbacks=[earlystopping, checkpoint, kappa_metrics]\n",
        ")"
      ],
      "execution_count": 0,
      "outputs": [
        {
          "output_type": "stream",
          "text": [
            "Epoch 1/5\n",
            "92/91 [==============================] - 1428s 16s/step - loss: 1.1588 - accuracy: 0.5910 - val_loss: 1.1978 - val_accuracy: 0.5293\n",
            "val_kappa: 0.5878\n",
            "Epoch 2/5\n",
            "92/91 [==============================] - 1434s 16s/step - loss: 1.0728 - accuracy: 0.6333 - val_loss: 1.0464 - val_accuracy: 0.6903\n",
            "val_kappa: 0.5967\n",
            "Epoch 3/5\n",
            "92/91 [==============================] - 1433s 16s/step - loss: 1.0512 - accuracy: 0.6473 - val_loss: 1.0295 - val_accuracy: 0.6971\n",
            "val_kappa: 0.5558\n",
            "Epoch 4/5\n",
            "92/91 [==============================] - 1476s 16s/step - loss: 1.0213 - accuracy: 0.6705 - val_loss: 1.0795 - val_accuracy: 0.6044\n",
            "val_kappa: 0.6780\n",
            "Epoch 5/5\n",
            "92/91 [==============================] - 1472s 16s/step - loss: 1.0195 - accuracy: 0.6664 - val_loss: 1.0629 - val_accuracy: 0.6398\n",
            "val_kappa: 0.3261\n"
          ],
          "name": "stdout"
        }
      ]
    },
    {
      "cell_type": "code",
      "metadata": {
        "id": "9VliZ30-DP6d",
        "colab_type": "code",
        "colab": {}
      },
      "source": [
        "y_pred = model.predict(X_train)"
      ],
      "execution_count": 0,
      "outputs": []
    },
    {
      "cell_type": "code",
      "metadata": {
        "id": "WaeXWusqDP6i",
        "colab_type": "code",
        "outputId": "671421b8-d04c-4f40-9759-3a2f19be49f9",
        "colab": {}
      },
      "source": [
        "from matplotlib import pyplot as plt\n",
        "\n",
        "fig = plt.plot(history.history[\"accuracy\"],label = \"train\", color='green')\n",
        "plt.plot(history.history[\"val_accuracy\"],label = \"test\", color='red')\n",
        "plt.legend(loc='upper left')\n",
        "plt.xlabel(\"epochs\")\n",
        "plt.ylabel(\"accuracy\")\n",
        "plt.title(\"accuracy by epochs\")\n",
        "plt.show()"
      ],
      "execution_count": 0,
      "outputs": [
        {
          "output_type": "display_data",
          "data": {
            "image/png": "[encoded data removed]",
            "text/plain": [
              "<Figure size 432x288 with 1 Axes>"
            ]
          },
          "metadata": {
            "tags": [],
            "needs_background": "light"
          }
        }
      ]
    },
    {
      "cell_type": "code",
      "metadata": {
        "id": "-2IhgloUDP6o",
        "colab_type": "code",
        "colab": {}
      },
      "source": [
        "test_df = pd.read_csv('sample_submission.csv')"
      ],
      "execution_count": 0,
      "outputs": []
    },
    {
      "cell_type": "code",
      "metadata": {
        "id": "N8Vf0U_wDP6u",
        "colab_type": "code",
        "colab": {}
      },
      "source": [
        "N = test_df.shape[0]\n",
        "x_test = np.empty((N, 96, 96, 3), dtype=np.uint8)\n",
        "\n",
        "for i, image_id in enumerate(tqdm(test_df['id_code'])):\n",
        "    x_test[i, :, :, :] = preprocess_image(\n",
        "        f'test_images/{image_id}.png'\n",
        "    )"
      ],
      "execution_count": 0,
      "outputs": []
    },
    {
      "cell_type": "code",
      "metadata": {
        "id": "u3tYCbKtDP65",
        "colab_type": "code",
        "colab": {}
      },
      "source": [
        "model.load_weights('model_alexnet_aptos.h5')\n",
        "y_test = model.predict(x_test, verbose=2)\n",
        "\n",
        "test_df['diagnosis'] = y_test.argmax(axis=1)\n",
        "print(test_df.head(10))\n",
        "\n",
        "test_df.to_csv('submission.csv',index=False)"
      ],
      "execution_count": 0,
      "outputs": []
    },
    {
      "cell_type": "code",
      "metadata": {
        "id": "-9YzTrhgDP7A",
        "colab_type": "code",
        "outputId": "5c92308a-5dee-4137-c7e9-dd3c39d65bc2",
        "colab": {}
      },
      "source": [
        "acc = history.history['accuracy']\n",
        "val_acc = history.history['val_accuracy']\n",
        "\n",
        "loss = history.history['loss']\n",
        "val_loss = history.history['val_loss']\n",
        "\n",
        "epochs_range = range(5)\n",
        "\n",
        "plt.figure(figsize=(8, 8))\n",
        "plt.subplot(1, 2, 1)\n",
        "plt.plot(epochs_range, acc, label='Training Accuracy')\n",
        "plt.plot(epochs_range, val_acc, label='Validation Accuracy')\n",
        "plt.legend(loc='lower right')\n",
        "plt.title('Training and Validation Accuracy')\n",
        "\n",
        "plt.subplot(1, 2, 2)\n",
        "plt.plot(epochs_range, loss, label='Training Loss')\n",
        "plt.plot(epochs_range, val_loss, label='Validation Loss')\n",
        "plt.legend(loc='upper right')\n",
        "plt.title('Training and Validation Loss')\n",
        "plt.savefig('./foo.png')\n",
        "plt.show()"
      ],
      "execution_count": 0,
      "outputs": [
        {
          "output_type": "display_data",
          "data": {
            "image/png": "[encoded data removed]",
            "text/plain": [
              "<Figure size 576x576 with 2 Axes>"
            ]
          },
          "metadata": {
            "tags": [],
            "needs_background": "light"
          }
        }
      ]
    },
    {
      "cell_type": "code",
      "metadata": {
        "id": "0fyGdiQeDP7G",
        "colab_type": "code",
        "colab": {}
      },
      "source": [
        ""
      ],
      "execution_count": 0,
      "outputs": []
    }
  ]
}